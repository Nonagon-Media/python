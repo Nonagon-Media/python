{
 "cells": [
  {
   "cell_type": "code",
   "execution_count": 3,
   "source": [
    "# Align content to the left of the screen\n",
    "def leftAlign(list):\n",
    "    print(\"___________________\")\n",
    "    print(\"|                 |\")\n",
    "\n",
    "    for item in list:\n",
    "        itemLength = len(item)\n",
    "        spaces = \" \" * (15 - itemLength)\n",
    "        print(\"| \" + item + spaces + \" |\")\n",
    "    print(\"|_________________|\")\n",
    "\n",
    "# main\n",
    "capitals = [\"Paris\", \"Amsterdam\", \"Oslo\", \"London\", \"Berlin\", \"Vienna\", \"Rome\", \"Stockholm\", \"Sydney\", \"Madrid\"]\n",
    "capitals.sort()\n",
    "leftAlign(capitals)"
   ],
   "outputs": [
    {
     "output_type": "stream",
     "name": "stdout",
     "text": [
      "___________________\n",
      "|                 |\n",
      "| Amsterdam       |\n",
      "| Berlin          |\n",
      "| London          |\n",
      "| Madrid          |\n",
      "| Oslo            |\n",
      "| Paris           |\n",
      "| Rome            |\n",
      "| Stockholm       |\n",
      "| Sydney          |\n",
      "| Vienna          |\n",
      "|_________________|\n"
     ]
    }
   ],
   "metadata": {}
  },
  {
   "cell_type": "markdown",
   "source": [
    "Since the spaces remain the same, all you have to do here is re-order when things are printed. It ends up being the same amount of spaces"
   ],
   "metadata": {}
  },
  {
   "cell_type": "code",
   "execution_count": 4,
   "source": [
    "# Same but align right\n",
    "def rightAlign(list):\n",
    "    print(\"___________________\")\n",
    "    print(\"|                 |\")\n",
    "\n",
    "    for item in list:\n",
    "        itemLength = len(item)\n",
    "        spaces = \" \" * (15 - itemLength)\n",
    "        print(\"| \" + spaces + item + \" |\")\n",
    "    print(\"|_________________|\")\n",
    "\n",
    "rightAlign(capitals)"
   ],
   "outputs": [
    {
     "output_type": "stream",
     "name": "stdout",
     "text": [
      "___________________\n",
      "|                 |\n",
      "|       Amsterdam |\n",
      "|          Berlin |\n",
      "|          London |\n",
      "|          Madrid |\n",
      "|            Oslo |\n",
      "|           Paris |\n",
      "|            Rome |\n",
      "|       Stockholm |\n",
      "|          Sydney |\n",
      "|          Vienna |\n",
      "|_________________|\n"
     ]
    }
   ],
   "metadata": {}
  },
  {
   "cell_type": "code",
   "execution_count": 12,
   "source": [
    "# Same but center\n",
    "import math\n",
    "def centerAlign(list):\n",
    "    print(\"___________________\")\n",
    "    print(\"|                 |\")\n",
    "\n",
    "    for item in list:\n",
    "        itemLength = len(item)\n",
    "        spaces = \" \" * (15 - itemLength)\n",
    "        #leftPad = \" \" * round(((15 - itemLength) / 2))\n",
    "        leftPad = \" \" * math.floor(7/2)\n",
    "        rightPad = \" \" * (15 - (len(leftPad) + len(item)))\n",
    "        print(\"| \" + leftPad + item + rightPad + \" |\")\n",
    "    print(\"|_________________|\")\n",
    "\n",
    "centerAlign(capitals)"
   ],
   "outputs": [
    {
     "output_type": "stream",
     "name": "stdout",
     "text": [
      "___________________\n",
      "|                 |\n"
     ]
    },
    {
     "output_type": "error",
     "ename": "TypeError",
     "evalue": "can't multiply sequence by non-int of type 'str'",
     "traceback": [
      "\u001b[0;31m---------------------------------------------------------------------------\u001b[0m",
      "\u001b[0;31mTypeError\u001b[0m                                 Traceback (most recent call last)",
      "\u001b[0;32m/tmp/ipykernel_99346/2373581480.py\u001b[0m in \u001b[0;36m<module>\u001b[0;34m\u001b[0m\n\u001b[1;32m     14\u001b[0m     \u001b[0mprint\u001b[0m\u001b[0;34m(\u001b[0m\u001b[0;34m\"|_________________|\"\u001b[0m\u001b[0;34m)\u001b[0m\u001b[0;34m\u001b[0m\u001b[0;34m\u001b[0m\u001b[0m\n\u001b[1;32m     15\u001b[0m \u001b[0;34m\u001b[0m\u001b[0m\n\u001b[0;32m---> 16\u001b[0;31m \u001b[0mcenterAlign\u001b[0m\u001b[0;34m(\u001b[0m\u001b[0mcapitals\u001b[0m\u001b[0;34m)\u001b[0m\u001b[0;34m\u001b[0m\u001b[0;34m\u001b[0m\u001b[0m\n\u001b[0m",
      "\u001b[0;32m/tmp/ipykernel_99346/2373581480.py\u001b[0m in \u001b[0;36mcenterAlign\u001b[0;34m(list)\u001b[0m\n\u001b[1;32m     10\u001b[0m         \u001b[0;31m#leftPad = \" \" * round(((15 - itemLength) / 2))\u001b[0m\u001b[0;34m\u001b[0m\u001b[0;34m\u001b[0m\u001b[0;34m\u001b[0m\u001b[0m\n\u001b[1;32m     11\u001b[0m         \u001b[0mleftPad\u001b[0m \u001b[0;34m=\u001b[0m \u001b[0;34m\" \"\u001b[0m \u001b[0;34m*\u001b[0m \u001b[0mmath\u001b[0m\u001b[0;34m.\u001b[0m\u001b[0mfloor\u001b[0m\u001b[0;34m(\u001b[0m\u001b[0;36m7\u001b[0m\u001b[0;34m/\u001b[0m\u001b[0;36m2\u001b[0m\u001b[0;34m)\u001b[0m\u001b[0;34m\u001b[0m\u001b[0;34m\u001b[0m\u001b[0m\n\u001b[0;32m---> 12\u001b[0;31m         \u001b[0mrightPad\u001b[0m \u001b[0;34m=\u001b[0m \u001b[0;34m\" \"\u001b[0m \u001b[0;34m*\u001b[0m \u001b[0;34m(\u001b[0m\u001b[0mleftPad\u001b[0m \u001b[0;34m+\u001b[0m \u001b[0mitem\u001b[0m\u001b[0;34m)\u001b[0m\u001b[0;34m\u001b[0m\u001b[0;34m\u001b[0m\u001b[0m\n\u001b[0m\u001b[1;32m     13\u001b[0m         \u001b[0mprint\u001b[0m\u001b[0;34m(\u001b[0m\u001b[0;34m\"| \"\u001b[0m \u001b[0;34m+\u001b[0m \u001b[0mleftPad\u001b[0m \u001b[0;34m+\u001b[0m \u001b[0mitem\u001b[0m \u001b[0;34m+\u001b[0m \u001b[0mrightPad\u001b[0m \u001b[0;34m+\u001b[0m \u001b[0;34m\" |\"\u001b[0m\u001b[0;34m)\u001b[0m\u001b[0;34m\u001b[0m\u001b[0;34m\u001b[0m\u001b[0m\n\u001b[1;32m     14\u001b[0m     \u001b[0mprint\u001b[0m\u001b[0;34m(\u001b[0m\u001b[0;34m\"|_________________|\"\u001b[0m\u001b[0;34m)\u001b[0m\u001b[0;34m\u001b[0m\u001b[0;34m\u001b[0m\u001b[0m\n",
      "\u001b[0;31mTypeError\u001b[0m: can't multiply sequence by non-int of type 'str'"
     ]
    }
   ],
   "metadata": {}
  }
 ],
 "metadata": {
  "interpreter": {
   "hash": "a8be6e47ebab37ff309e9f7069862357b9e3da5d4d9744cd08b14246d5c04fa2"
  },
  "kernelspec": {
   "display_name": "Python 3",
   "language": "python",
   "name": "python3"
  },
  "language_info": {
   "codemirror_mode": {
    "name": "ipython",
    "version": 3
   },
   "file_extension": ".py",
   "mimetype": "text/x-python",
   "name": "python",
   "nbconvert_exporter": "python",
   "pygments_lexer": "ipython3",
   "version": "3.8.10"
  }
 },
 "nbformat": 4,
 "nbformat_minor": 2
}