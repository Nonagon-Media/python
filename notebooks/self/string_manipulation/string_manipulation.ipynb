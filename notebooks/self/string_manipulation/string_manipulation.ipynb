{
    "cells": [
        {
            "cell_type": "markdown",
            "source": [
                "Strings are immutable: contents cannot be changed.\n",
                "Can be accessed using an index. Each character has an index number\n",
                "Strings are arrays."
            ],
            "metadata": {}
        },
        {
            "cell_type": "markdown",
            "source": [
                "String Manipulation"
            ],
            "metadata": {}
        },
        {
            "cell_type": "markdown",
            "source": [
                "Create a string"
            ],
            "metadata": {}
        },
        {
            "cell_type": "code",
            "execution_count": 12,
            "source": [
                "word=\"Nonagon Media\""
            ],
            "outputs": [],
            "metadata": {}
        },
        {
            "cell_type": "markdown",
            "source": [
                "Access a string element by index"
            ],
            "metadata": {}
        },
        {
            "cell_type": "code",
            "execution_count": 13,
            "source": [
                "letter=word[2] # Get the 3rd element. indexes start at 0\n",
                "print(letter)"
            ],
            "outputs": [
                {
                    "output_type": "stream",
                    "name": "stdout",
                    "text": [
                        "n\n"
                    ]
                }
            ],
            "metadata": {}
        },
        {
            "cell_type": "markdown",
            "source": [
                "Number of characters in a string"
            ],
            "metadata": {}
        },
        {
            "cell_type": "code",
            "execution_count": 14,
            "source": [
                "S=\"Python,     Programmer\"\n",
                "print(\"No of spaces:\", S.count(\" \"))"
            ],
            "outputs": [
                {
                    "output_type": "stream",
                    "name": "stdout",
                    "text": [
                        "No of spaces: 5\n"
                    ]
                }
            ],
            "metadata": {}
        },
        {
            "cell_type": "markdown",
            "source": [
                "Split on empty space"
            ],
            "metadata": {}
        },
        {
            "cell_type": "code",
            "execution_count": 15,
            "source": [
                "word.split(\" \")"
            ],
            "outputs": [
                {
                    "output_type": "execute_result",
                    "data": {
                        "text/plain": [
                            "['Nonagon', 'Media']"
                        ]
                    },
                    "metadata": {},
                    "execution_count": 15
                }
            ],
            "metadata": {}
        },
        {
            "cell_type": "markdown",
            "source": [
                "These tell whether something starts or ends with something"
            ],
            "metadata": {}
        },
        {
            "cell_type": "code",
            "execution_count": 16,
            "source": [
                "print(\"Does it start with 'A':\", word.startswith(\"A\"))\n",
                "print(\"Does it start with 'N':\", word.startswith(\"N\"))\n",
                "print(\"Does it end with 'a':\", word.endswith(\"a\"))"
            ],
            "outputs": [
                {
                    "output_type": "stream",
                    "name": "stdout",
                    "text": [
                        "Does it start with 'A': False\n",
                        "Does it start with 'N': True\n",
                        "Does it end with 'a': True\n"
                    ]
                }
            ],
            "metadata": {}
        },
        {
            "cell_type": "markdown",
            "source": [
                "Repeat a string"
            ],
            "metadata": {}
        },
        {
            "cell_type": "code",
            "execution_count": 20,
            "source": [
                "repeat=word*5 #print the string 5 timestamp\n",
                "print(repeat)"
            ],
            "outputs": [
                {
                    "output_type": "stream",
                    "name": "stdout",
                    "text": [
                        "Nonagon MediaNonagon MediaNonagon MediaNonagon MediaNonagon Media\n"
                    ]
                }
            ],
            "metadata": {}
        },
        {
            "cell_type": "markdown",
            "source": [
                "Make everything upper or lowercase"
            ],
            "metadata": {}
        },
        {
            "cell_type": "code",
            "execution_count": 21,
            "source": [
                "print(word.upper()) # All uppercase characters\n",
                "print(word.lower()) # All lowercase characters"
            ],
            "outputs": [
                {
                    "output_type": "stream",
                    "name": "stdout",
                    "text": [
                        "NONAGON MEDIA\n",
                        "nonagon media\n"
                    ]
                }
            ],
            "metadata": {}
        },
        {
            "cell_type": "markdown",
            "source": [
                "Capitalization and flip-flop"
            ],
            "metadata": {}
        },
        {
            "cell_type": "code",
            "execution_count": 23,
            "source": [
                "print(word.capitalize())\n",
                "print(word.swapcase())"
            ],
            "outputs": [
                {
                    "output_type": "stream",
                    "name": "stdout",
                    "text": [
                        "Nonagon media\n",
                        "nONAGON mEDIA\n"
                    ]
                }
            ],
            "metadata": {}
        },
        {
            "cell_type": "markdown",
            "source": [
                "Slicing and indexing to reverse a word"
            ],
            "metadata": {}
        },
        {
            "cell_type": "code",
            "execution_count": 24,
            "source": [
                "print(word[::-1])"
            ],
            "outputs": [
                {
                    "output_type": "stream",
                    "name": "stdout",
                    "text": [
                        "aideM noganoN\n"
                    ]
                }
            ],
            "metadata": {}
        },
        {
            "cell_type": "markdown",
            "source": [
                "Remove whitespace"
            ],
            "metadata": {}
        },
        {
            "cell_type": "code",
            "execution_count": 26,
            "source": [
                "word2=\"     why the hell would you do this\"\n",
                "print(word2.strip(\" \"))"
            ],
            "outputs": [
                {
                    "output_type": "stream",
                    "name": "stdout",
                    "text": [
                        "why the hell would you do this\n"
                    ]
                }
            ],
            "metadata": {}
        },
        {
            "cell_type": "markdown",
            "source": [
                "Take off characters on the right side"
            ],
            "metadata": {}
        },
        {
            "cell_type": "code",
            "execution_count": 28,
            "source": [
                "\n",
                "word3=\"Nonagon Mediafucker#\"\n",
                "print(word3.rstrip(\"fucker#\"))"
            ],
            "outputs": [
                {
                    "output_type": "stream",
                    "name": "stdout",
                    "text": [
                        "Nonagon Media\n"
                    ]
                }
            ],
            "metadata": {}
        },
        {
            "cell_type": "markdown",
            "source": [
                "And from the left"
            ],
            "metadata": {}
        },
        {
            "cell_type": "code",
            "execution_count": 29,
            "source": [
                "word4=\"$$$Nonagon\"\n",
                "print(word4.lstrip(\"$$$\"))"
            ],
            "outputs": [
                {
                    "output_type": "stream",
                    "name": "stdout",
                    "text": [
                        "Nonagon\n"
                    ]
                }
            ],
            "metadata": {}
        },
        {
            "cell_type": "markdown",
            "source": [
                "Concatentation and joining"
            ],
            "metadata": {}
        },
        {
            "cell_type": "code",
            "execution_count": 30,
            "source": [
                "concat_word=\"Nonagon\"+\"Media\"\n",
                "print(concat_word)\n",
                "\n",
                "joined_word=\"_\".join(word)\n",
                "print(joined_word)"
            ],
            "outputs": [
                {
                    "output_type": "stream",
                    "name": "stdout",
                    "text": [
                        "N_o_n_a_g_o_n_ _M_e_d_i_a\n"
                    ]
                }
            ],
            "metadata": {}
        }
    ],
    "metadata": {
        "orig_nbformat": 4,
        "language_info": {
            "name": "python",
            "version": "3.8.10",
            "mimetype": "text/x-python",
            "codemirror_mode": {
                "name": "ipython",
                "version": 3
            },
            "pygments_lexer": "ipython3",
            "nbconvert_exporter": "python",
            "file_extension": ".py"
        },
        "kernelspec": {
            "name": "python3",
            "display_name": "Python 3.8.10 64-bit ('py3')"
        },
        "interpreter": {
            "hash": "a8be6e47ebab37ff309e9f7069862357b9e3da5d4d9744cd08b14246d5c04fa2"
        }
    },
    "nbformat": 4,
    "nbformat_minor": 2
}