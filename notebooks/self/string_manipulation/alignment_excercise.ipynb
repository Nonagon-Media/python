{
 "cells": [
  {
   "cell_type": "code",
   "execution_count": 3,
   "source": [
    "# Align content to the left of the screen\n",
    "def leftAlign(list):\n",
    "    print(\"___________________\")\n",
    "    print(\"|                 |\")\n",
    "\n",
    "    for item in list:\n",
    "        itemLength = len(item)\n",
    "        spaces = \" \" * (15 - itemLength)\n",
    "        print(\"| \" + item + spaces + \" |\")\n",
    "    print(\"|_________________|\")\n",
    "\n",
    "# main\n",
    "capitals = [\"Paris\", \"Amsterdam\", \"Oslo\", \"London\", \"Berlin\", \"Vienna\", \"Rome\", \"Stockholm\", \"Sydney\", \"Madrid\"]\n",
    "capitals.sort()\n",
    "leftAlign(capitals)"
   ],
   "outputs": [
    {
     "output_type": "stream",
     "name": "stdout",
     "text": [
      "___________________\n",
      "|                 |\n",
      "| Amsterdam       |\n",
      "| Berlin          |\n",
      "| London          |\n",
      "| Madrid          |\n",
      "| Oslo            |\n",
      "| Paris           |\n",
      "| Rome            |\n",
      "| Stockholm       |\n",
      "| Sydney          |\n",
      "| Vienna          |\n",
      "|_________________|\n"
     ]
    }
   ],
   "metadata": {}
  },
  {
   "cell_type": "markdown",
   "source": [
    "Since the spaces remain the same, all you have to do here is re-order when things are printed. It ends up being the same amount of spaces"
   ],
   "metadata": {}
  },
  {
   "cell_type": "code",
   "execution_count": 4,
   "source": [
    "# Same but align right\n",
    "def rightAlign(list):\n",
    "    print(\"___________________\")\n",
    "    print(\"|                 |\")\n",
    "\n",
    "    for item in list:\n",
    "        itemLength = len(item)\n",
    "        spaces = \" \" * (15 - itemLength)\n",
    "        print(\"| \" + spaces + item + \" |\")\n",
    "    print(\"|_________________|\")\n",
    "\n",
    "rightAlign(capitals)"
   ],
   "outputs": [
    {
     "output_type": "stream",
     "name": "stdout",
     "text": [
      "___________________\n",
      "|                 |\n",
      "|       Amsterdam |\n",
      "|          Berlin |\n",
      "|          London |\n",
      "|          Madrid |\n",
      "|            Oslo |\n",
      "|           Paris |\n",
      "|            Rome |\n",
      "|       Stockholm |\n",
      "|          Sydney |\n",
      "|          Vienna |\n",
      "|_________________|\n"
     ]
    }
   ],
   "metadata": {}
  },
  {
   "cell_type": "code",
   "execution_count": 13,
   "source": [
    "# Same but center\n",
    "import math\n",
    "def centerAlign(list):\n",
    "    print(\"___________________\")\n",
    "    print(\"|                 |\")\n",
    "\n",
    "    for item in list:\n",
    "        itemLength = len(item)\n",
    "        spaces = \" \" * (15 - itemLength)\n",
    "        #leftPad = \" \" * round(((15 - itemLength) / 2))\n",
    "        leftPad = \" \" * math.floor(7/2)\n",
    "        rightPad = \" \" * (15 - (len(leftPad) + len(item)))\n",
    "        print(\"| \" + leftPad + item + rightPad + \" |\")\n",
    "    print(\"|_________________|\")\n",
    "\n",
    "centerAlign(capitals)"
   ],
   "outputs": [
    {
     "output_type": "stream",
     "name": "stdout",
     "text": [
      "___________________\n",
      "|                 |\n",
      "|    Amsterdam    |\n",
      "|    Berlin       |\n",
      "|    London       |\n",
      "|    Madrid       |\n",
      "|    Oslo         |\n",
      "|    Paris        |\n",
      "|    Rome         |\n",
      "|    Stockholm    |\n",
      "|    Sydney       |\n",
      "|    Vienna       |\n",
      "|_________________|\n"
     ]
    }
   ],
   "metadata": {}
  }
 ],
 "metadata": {
  "interpreter": {
   "hash": "a8be6e47ebab37ff309e9f7069862357b9e3da5d4d9744cd08b14246d5c04fa2"
  },
  "kernelspec": {
   "display_name": "Python 3",
   "language": "python",
   "name": "python3"
  },
  "language_info": {
   "codemirror_mode": {
    "name": "ipython",
    "version": 3
   },
   "file_extension": ".py",
   "mimetype": "text/x-python",
   "name": "python",
   "nbconvert_exporter": "python",
   "pygments_lexer": "ipython3",
   "version": "3.8.10"
  }
 },
 "nbformat": 4,
 "nbformat_minor": 2
}